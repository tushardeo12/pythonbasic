{
 "cells": [
  {
   "cell_type": "markdown",
   "metadata": {},
   "source": [
    "# Welcome to Python Lab"
   ]
  },
  {
   "cell_type": "code",
   "execution_count": 100,
   "metadata": {},
   "outputs": [
    {
     "name": "stdout",
     "output_type": "stream",
     "text": [
      "Welcome Python Learners!!\n"
     ]
    }
   ],
   "source": [
    "print(\"Welcome Python Learners!!\")"
   ]
  },
  {
   "cell_type": "markdown",
   "metadata": {},
   "source": [
    "# Variables "
   ]
  },
  {
   "cell_type": "code",
   "execution_count": 101,
   "metadata": {},
   "outputs": [],
   "source": [
    "#variable stores some value\n",
    "x=\"Hello!\""
   ]
  },
  {
   "cell_type": "code",
   "execution_count": 102,
   "metadata": {},
   "outputs": [
    {
     "data": {
      "text/plain": [
       "'Hello!'"
      ]
     },
     "execution_count": 102,
     "metadata": {},
     "output_type": "execute_result"
    }
   ],
   "source": [
    "x"
   ]
  },
  {
   "cell_type": "code",
   "execution_count": 103,
   "metadata": {},
   "outputs": [],
   "source": [
    "y=5"
   ]
  },
  {
   "cell_type": "code",
   "execution_count": 104,
   "metadata": {},
   "outputs": [
    {
     "name": "stdout",
     "output_type": "stream",
     "text": [
      "5\n"
     ]
    }
   ],
   "source": [
    "print(y)"
   ]
  },
  {
   "cell_type": "markdown",
   "metadata": {},
   "source": [
    "Suitable variable names"
   ]
  },
  {
   "cell_type": "code",
   "execution_count": 105,
   "metadata": {},
   "outputs": [],
   "source": [
    "my_value=78"
   ]
  },
  {
   "cell_type": "code",
   "execution_count": 106,
   "metadata": {},
   "outputs": [
    {
     "ename": "SyntaxError",
     "evalue": "cannot assign to operator (<ipython-input-106-0641e25dadd1>, line 1)",
     "output_type": "error",
     "traceback": [
      "\u001b[1;36m  File \u001b[1;32m\"<ipython-input-106-0641e25dadd1>\"\u001b[1;36m, line \u001b[1;32m1\u001b[0m\n\u001b[1;33m    my%value=90\u001b[0m\n\u001b[1;37m    ^\u001b[0m\n\u001b[1;31mSyntaxError\u001b[0m\u001b[1;31m:\u001b[0m cannot assign to operator\n"
     ]
    }
   ],
   "source": [
    "my%value=90"
   ]
  },
  {
   "cell_type": "code",
   "execution_count": 109,
   "metadata": {},
   "outputs": [],
   "source": [
    "\n",
    "\n",
    "_my=78.0"
   ]
  },
  {
   "cell_type": "code",
   "execution_count": 108,
   "metadata": {},
   "outputs": [
    {
     "ename": "SyntaxError",
     "evalue": "cannot assign to operator (<ipython-input-108-001a9dc244da>, line 1)",
     "output_type": "error",
     "traceback": [
      "\u001b[1;36m  File \u001b[1;32m\"<ipython-input-108-001a9dc244da>\"\u001b[1;36m, line \u001b[1;32m1\u001b[0m\n\u001b[1;33m    My+value=85\u001b[0m\n\u001b[1;37m    ^\u001b[0m\n\u001b[1;31mSyntaxError\u001b[0m\u001b[1;31m:\u001b[0m cannot assign to operator\n"
     ]
    }
   ],
   "source": [
    "My+value=85"
   ]
  },
  {
   "cell_type": "code",
   "execution_count": 110,
   "metadata": {},
   "outputs": [
    {
     "ename": "SyntaxError",
     "evalue": "invalid syntax (<ipython-input-110-49fee79b23bd>, line 1)",
     "output_type": "error",
     "traceback": [
      "\u001b[1;36m  File \u001b[1;32m\"<ipython-input-110-49fee79b23bd>\"\u001b[1;36m, line \u001b[1;32m1\u001b[0m\n\u001b[1;33m    2my=78\u001b[0m\n\u001b[1;37m     ^\u001b[0m\n\u001b[1;31mSyntaxError\u001b[0m\u001b[1;31m:\u001b[0m invalid syntax\n"
     ]
    }
   ],
   "source": [
    "2my=78"
   ]
  },
  {
   "cell_type": "code",
   "execution_count": 111,
   "metadata": {},
   "outputs": [
    {
     "name": "stdout",
     "output_type": "stream",
     "text": [
      "1 2 3\n"
     ]
    }
   ],
   "source": [
    "x,y,z=1,2,3\n",
    "\n",
    "print(x,y,z)\n",
    "\n"
   ]
  },
  {
   "cell_type": "code",
   "execution_count": 112,
   "metadata": {},
   "outputs": [
    {
     "name": "stdout",
     "output_type": "stream",
     "text": [
      "10 10 10\n"
     ]
    }
   ],
   "source": [
    "x=y=z=10\n",
    "print(x,y,z)"
   ]
  },
  {
   "cell_type": "markdown",
   "metadata": {},
   "source": [
    "# Datatypes"
   ]
  },
  {
   "cell_type": "code",
   "execution_count": 113,
   "metadata": {},
   "outputs": [],
   "source": [
    "y=667 #integer variable\n",
    "x=3.14 #float variable\n",
    "z=\"Hi!\" #string variable\n",
    "p=4+5j #complex variable\n",
    "q=True #boolean variable"
   ]
  },
  {
   "cell_type": "code",
   "execution_count": 114,
   "metadata": {},
   "outputs": [
    {
     "name": "stdout",
     "output_type": "stream",
     "text": [
      "<class 'int'>\n",
      "<class 'float'>\n",
      "<class 'str'>\n",
      "<class 'complex'>\n",
      "<class 'bool'>\n"
     ]
    }
   ],
   "source": [
    "#finding the datatypes of variables\n",
    "print(type(y))\n",
    "print(type(x))\n",
    "print(type(z))\n",
    "print(type(p))\n",
    "print(type(q))"
   ]
  },
  {
   "cell_type": "code",
   "execution_count": 115,
   "metadata": {},
   "outputs": [
    {
     "name": "stdout",
     "output_type": "stream",
     "text": [
      "False\n",
      "<class 'str'>\n"
     ]
    }
   ],
   "source": [
    "#boolean value written under cotations then it's a string \n",
    "val=\"False\"\n",
    "print(val)\n",
    "print(type(val))"
   ]
  },
  {
   "cell_type": "code",
   "execution_count": 116,
   "metadata": {},
   "outputs": [
    {
     "name": "stdout",
     "output_type": "stream",
     "text": [
      "(11+17j)\n",
      "<class 'complex'>\n",
      "5.0   8.0\n"
     ]
    }
   ],
   "source": [
    "a = 5+8j\n",
    "b = 6+9j\n",
    "print(a+b)\n",
    "print(type(a))\n",
    "\n",
    "# For taking real or imaginary part separately\n",
    "print(a.real, ' ',  a.imag)"
   ]
  },
  {
   "cell_type": "code",
   "execution_count": 117,
   "metadata": {},
   "outputs": [
    {
     "name": "stdout",
     "output_type": "stream",
     "text": [
      "<class 'list'>\n"
     ]
    }
   ],
   "source": [
    "l = [10,12,'vivek',13]\n",
    "print(type(l))"
   ]
  },
  {
   "cell_type": "code",
   "execution_count": 118,
   "metadata": {},
   "outputs": [
    {
     "name": "stdout",
     "output_type": "stream",
     "text": [
      "<class 'set'>\n"
     ]
    }
   ],
   "source": [
    "s = {10,12,'vivek',13}\n",
    "print(type(s))"
   ]
  },
  {
   "cell_type": "code",
   "execution_count": 119,
   "metadata": {},
   "outputs": [
    {
     "name": "stdout",
     "output_type": "stream",
     "text": [
      "<class 'dict'>\n"
     ]
    }
   ],
   "source": [
    "d = {101:'name', 102:'class',102:'year'}\n",
    "print(type(d))"
   ]
  },
  {
   "cell_type": "code",
   "execution_count": 124,
   "metadata": {},
   "outputs": [
    {
     "name": "stdout",
     "output_type": "stream",
     "text": [
      "<class 'set'>\n",
      "<class 'frozenset'>\n",
      "frozenset({10, 20, 12, 'vivek'})\n",
      "11\n"
     ]
    }
   ],
   "source": [
    "s = {10,20,12,'vivek', 20} #here elements of the set can be modified\n",
    "fs = frozenset(s) #frozenset means the elements in the set can't be modified\n",
    "print(type(s))\n",
    "print(type(fs))\n",
    "print(fs)\n",
    "#fs[0]=11\n",
    "#print(fs)"
   ]
  },
  {
   "cell_type": "code",
   "execution_count": 126,
   "metadata": {},
   "outputs": [
    {
     "name": "stdout",
     "output_type": "stream",
     "text": [
      "<class 'range'>\n",
      "range(0, 10)\n"
     ]
    }
   ],
   "source": [
    "r = range(10)\n",
    "print(type(r))\n",
    "print(r)"
   ]
  },
  {
   "cell_type": "code",
   "execution_count": 127,
   "metadata": {},
   "outputs": [
    {
     "name": "stdout",
     "output_type": "stream",
     "text": [
      "<class 'tuple'>\n"
     ]
    }
   ],
   "source": [
    "t = (10,12,'vivek',13)\n",
    "print(type(t))"
   ]
  },
  {
   "cell_type": "code",
   "execution_count": 128,
   "metadata": {},
   "outputs": [
    {
     "data": {
      "text/plain": [
       "2177656169456"
      ]
     },
     "execution_count": 128,
     "metadata": {},
     "output_type": "execute_result"
    }
   ],
   "source": [
    "#finding the id of an variable\n",
    "id(val)"
   ]
  },
  {
   "cell_type": "code",
   "execution_count": 129,
   "metadata": {},
   "outputs": [
    {
     "name": "stdout",
     "output_type": "stream",
     "text": [
      "2177725461840\n",
      "2177725460880\n",
      "2177726343536\n",
      "2177725461136\n",
      "140725056694096\n"
     ]
    }
   ],
   "source": [
    "print(id(y))\n",
    "print(id(x))\n",
    "print(id(z))\n",
    "print(id(p))\n",
    "print(id(q))"
   ]
  },
  {
   "cell_type": "code",
   "execution_count": 130,
   "metadata": {},
   "outputs": [
    {
     "name": "stdout",
     "output_type": "stream",
     "text": [
      "id of y is-> 2177725461840\n"
     ]
    }
   ],
   "source": [
    "print(\"id of y is->\",id(y))"
   ]
  },
  {
   "cell_type": "code",
   "execution_count": 131,
   "metadata": {},
   "outputs": [
    {
     "name": "stdout",
     "output_type": "stream",
     "text": [
      "Enter your name:Supreeti\n"
     ]
    }
   ],
   "source": [
    "#Input by user\n",
    "name = input(\"Enter your name:\")"
   ]
  },
  {
   "cell_type": "markdown",
   "metadata": {},
   "source": [
    "# Operators"
   ]
  },
  {
   "cell_type": "markdown",
   "metadata": {},
   "source": [
    "Arithmetic Operators "
   ]
  },
  {
   "cell_type": "code",
   "execution_count": 132,
   "metadata": {},
   "outputs": [
    {
     "name": "stdout",
     "output_type": "stream",
     "text": [
      "15\n",
      "5\n",
      "50\n",
      "2.0\n",
      "0\n",
      "2\n",
      "100000\n",
      "RamShyamShyamShyam\n"
     ]
    }
   ],
   "source": [
    "a= 10\n",
    "b = 5\n",
    "\n",
    "print(a+b)  # Addition\n",
    "\n",
    "print(a-b)  # Subtraction\n",
    "\n",
    "print(a*b)  # Multiplication\n",
    "\n",
    "print(a/b)  # Division and it will always return float values\n",
    "\n",
    "print(a%b)  # Modulo it finds the remainder\n",
    "\n",
    "print(a//b)  # Floor Division it will give o/p in float if any number is float otherwise int\n",
    "\n",
    "print(a**b)  # Exponent Power Operator it is used to raise the 1st operand to power of 2nd\n",
    "\n",
    "\n",
    "# We can use + (concatenation  operator)  and *(Str multiplication op. ) for str also\n",
    "\n",
    "print(\"Ram\"+'Shyam'*3)"
   ]
  },
  {
   "cell_type": "markdown",
   "metadata": {},
   "source": [
    "Relational Operators"
   ]
  },
  {
   "cell_type": "code",
   "execution_count": 133,
   "metadata": {},
   "outputs": [
    {
     "name": "stdout",
     "output_type": "stream",
     "text": [
      "True\n",
      "False\n",
      "False\n",
      "True\n",
      "True\n",
      "False\n",
      "False\n",
      "False\n"
     ]
    }
   ],
   "source": [
    "# >,<,<=,>= are the relational operators\n",
    "a = 10\n",
    "b = 5\n",
    "print(a > b)\n",
    "print(a < b)\n",
    "print(a == b)\n",
    "print(a != b)\n",
    "print(a >= b)\n",
    "print(a <= b)\n",
    "\n",
    "\n",
    "# We can apply for strings also\n",
    "\n",
    "print('a'>'ab')\n",
    "print('bcd'>'w')"
   ]
  },
  {
   "cell_type": "markdown",
   "metadata": {},
   "source": [
    "Logical Operators"
   ]
  },
  {
   "cell_type": "code",
   "execution_count": 134,
   "metadata": {},
   "outputs": [
    {
     "name": "stdout",
     "output_type": "stream",
     "text": [
      "True\n",
      "False\n",
      "False\n"
     ]
    }
   ],
   "source": [
    "#mainly logical operators are used for conditional statements\n",
    "a=5\n",
    "print( a < 10 or a > 5)\n",
    "print(a < 10 and a > 5)\n",
    "print(not a)"
   ]
  },
  {
   "cell_type": "markdown",
   "metadata": {},
   "source": [
    "Bitwise Operators"
   ]
  },
  {
   "cell_type": "code",
   "execution_count": 137,
   "metadata": {},
   "outputs": [
    {
     "name": "stdout",
     "output_type": "stream",
     "text": [
      "0\n",
      "14\n",
      "-11\n",
      "14\n"
     ]
    }
   ],
   "source": [
    "a=10 #1010\n",
    "b=4 #0100\n",
    "\n",
    "print(a & b) # If both are is not zero(False) o/p will be True otherwise False\n",
    "\n",
    "print(a | b) # If any digit is not zero o/p will be True otherwise False\n",
    "\n",
    "print(~a) # Bitwise complement (complement of 0000 1010)-1111 0101\n",
    "\n",
    "print(a ^ b)  # If bits are different then result is 1 otherwise 0\n"
   ]
  },
  {
   "cell_type": "code",
   "execution_count": 138,
   "metadata": {},
   "outputs": [
    {
     "name": "stdout",
     "output_type": "stream",
     "text": [
      "5\n",
      "-5\n",
      "10\n",
      "-20\n"
     ]
    }
   ],
   "source": [
    "a=10 #in binary no. it is 0000 1010\n",
    "\n",
    "print(a >> 1) #right shift in binary form\n",
    "\n",
    "a=-10 #1000 1010 \n",
    "\n",
    "print(a >> 1)\n",
    "\n",
    "b=5\n",
    "\n",
    "print(b << 1) #left shift in binary form\n",
    "\n",
    "b=-10\n",
    "\n",
    "print(b << 1)"
   ]
  },
  {
   "cell_type": "markdown",
   "metadata": {},
   "source": [
    "Identity Operators"
   ]
  },
  {
   "cell_type": "code",
   "execution_count": 139,
   "metadata": {},
   "outputs": [
    {
     "name": "stdout",
     "output_type": "stream",
     "text": [
      "False\n",
      "True\n",
      "False\n",
      "True\n"
     ]
    }
   ],
   "source": [
    "#It is used to compare objects\n",
    "a = 10.5\n",
    "b = 10.5\n",
    "print(a is b)\n",
    "print(a is not b)\n",
    "\n",
    "x = 5+6j\n",
    "z = 5+6j\n",
    "\n",
    "print(x is z)\n",
    "print(x is not z)\n",
    "\n"
   ]
  },
  {
   "cell_type": "markdown",
   "metadata": {},
   "source": [
    "Assignment operators"
   ]
  },
  {
   "cell_type": "code",
   "execution_count": 140,
   "metadata": {},
   "outputs": [
    {
     "name": "stdout",
     "output_type": "stream",
     "text": [
      "41\n",
      "72\n",
      "2232\n",
      "72.0\n",
      "3\n",
      "617673396283947\n",
      "19924948267224\n"
     ]
    }
   ],
   "source": [
    "a = 31\n",
    "b = 10\n",
    "c = 0\n",
    "\n",
    "c=a+b\n",
    "print(c)\n",
    "\n",
    "c += a #c=c+a\n",
    "print(c)\n",
    "\n",
    "c *= a\n",
    "print(c)\n",
    "\n",
    "c /= a\n",
    "print(c)\n",
    "\n",
    "c=3\n",
    "\n",
    "c %= a\n",
    "print(c)\n",
    "\n",
    "c **= a\n",
    "print(c)\n",
    "\n",
    "c //= a\n",
    "print(c)"
   ]
  },
  {
   "cell_type": "markdown",
   "metadata": {},
   "source": [
    "Membership Operators"
   ]
  },
  {
   "cell_type": "code",
   "execution_count": 141,
   "metadata": {},
   "outputs": [
    {
     "name": "stdout",
     "output_type": "stream",
     "text": [
      "True\n",
      "True\n"
     ]
    }
   ],
   "source": [
    "#It has in & not in\n",
    "#it checks if a sequence is present in an object\n",
    "a = 'Vivek is a great man'\n",
    "list = [10,13,14]\n",
    "c =10\n",
    "\n",
    "print('v' in a)  \n",
    "print(c in list)  "
   ]
  },
  {
   "cell_type": "markdown",
   "metadata": {},
   "source": [
    "Ternary Operator"
   ]
  },
  {
   "cell_type": "code",
   "execution_count": 142,
   "metadata": {},
   "outputs": [
    {
     "name": "stdout",
     "output_type": "stream",
     "text": [
      "40\n"
     ]
    }
   ],
   "source": [
    "x=30 if 10>40 else 40 #condition?option1:option2\n",
    "print(x)\n",
    "\n"
   ]
  },
  {
   "cell_type": "code",
   "execution_count": 143,
   "metadata": {},
   "outputs": [
    {
     "name": "stdout",
     "output_type": "stream",
     "text": [
      "3\n"
     ]
    }
   ],
   "source": [
    "#  Print min one\n",
    "a = 3\n",
    "b = 7\n",
    "min = a if a<b else b\n",
    "print(min)"
   ]
  },
  {
   "cell_type": "markdown",
   "metadata": {},
   "source": [
    "# Typecasting"
   ]
  },
  {
   "cell_type": "code",
   "execution_count": 149,
   "metadata": {},
   "outputs": [
    {
     "name": "stdout",
     "output_type": "stream",
     "text": [
      "False\n",
      "True\n",
      "True\n",
      "True\n",
      "False\n",
      "True\n"
     ]
    }
   ],
   "source": [
    "# bool() is used to convert one type to bool'\n",
    "\n",
    "print (bool(0))\n",
    "print(bool(-5))\n",
    "print(bool(\"True\"))\n",
    "print(bool(\"2345678o\"))\n",
    "print(bool(\"\"))\n",
    "print(bool(10+9j))"
   ]
  },
  {
   "cell_type": "code",
   "execution_count": 145,
   "metadata": {},
   "outputs": [
    {
     "name": "stdout",
     "output_type": "stream",
     "text": [
      "(10+0j)\n",
      "(10.5+0j)\n",
      "(10.5+0j)\n",
      "(10+0j)\n",
      "(1+0j)\n",
      "0j\n",
      "(10-23j)\n",
      "(1+8j)\n"
     ]
    }
   ],
   "source": [
    "#  complex() function to convert  in complex from,\n",
    "# While  converting str, it should  be  in form of integral value or float\n",
    "\n",
    "print(complex(10))\n",
    "print( complex(10.5))\n",
    "print( complex(\"10.5\"))\n",
    "print( complex(\"10\"))\n",
    "print( complex(True))\n",
    "print( complex(False))\n",
    "\n",
    "\n",
    "#  complex(x,y) for creating  x real and  y imag\n",
    "\n",
    "print(complex(10,-23))\n",
    "print(complex(1,8))"
   ]
  },
  {
   "cell_type": "code",
   "execution_count": 152,
   "metadata": {},
   "outputs": [
    {
     "name": "stdout",
     "output_type": "stream",
     "text": [
      "10.0\n",
      "10.0\n",
      "10.5\n"
     ]
    },
    {
     "data": {
      "text/plain": [
       "10.5"
      ]
     },
     "execution_count": 152,
     "metadata": {},
     "output_type": "execute_result"
    }
   ],
   "source": [
    "#  float() function for conversion from\n",
    "\n",
    "float(10)\n",
    "# float(10+5j)  #cant convert complex  to float\n",
    "\n",
    "print(float(10))\n",
    "print(float(\"10\"))\n",
    "print(float(\"10.5\"))\n",
    "\n",
    "# While converting str to float, str must be in form of integral or floating point literal\n",
    "float(\"10.5\")"
   ]
  },
  {
   "cell_type": "code",
   "execution_count": 153,
   "metadata": {},
   "outputs": [
    {
     "name": "stdout",
     "output_type": "stream",
     "text": [
      "1\n",
      "1\n",
      "0\n",
      "10\n",
      "64\n"
     ]
    }
   ],
   "source": [
    "#  int() is used to  convert  values from  other types to int. We  cant convert complex to int\n",
    "\n",
    "# float to int\n",
    "print(int(1.234))\n",
    "\n",
    "\n",
    "\n",
    "# bool to int\n",
    "print (int(True))\n",
    "print (int(False))\n",
    "\n",
    "# Numeric str(whole numbers)  to int\n",
    "str = \"10\"\n",
    "print(int(str))\n",
    "\n",
    "# For converting from str  to int,  str must contain  only integral value in base 10 form\n",
    "\n",
    "print(int(0O100))\n"
   ]
  },
  {
   "cell_type": "markdown",
   "metadata": {},
   "source": [
    "# String Operations"
   ]
  },
  {
   "cell_type": "code",
   "execution_count": 163,
   "metadata": {},
   "outputs": [
    {
     "name": "stdout",
     "output_type": "stream",
     "text": [
      "Computer programming is the process of designing and building an executable computer program to accomplish a \n",
      "specific computing result or to perform a specific task. Programming involves tasks such as: analysis, generating \n",
      "algorithms, profiling algorithms' accuracy and resource consumption, and the implementation of algorithms in a chosen\n",
      "programming language (commonly referred to as coding).The source code of a program is written in one or more \n",
      "languages that are intelligible to programmers, rather than machine code, which is directly executed by the central \n",
      "processing unit. The purpose of programming is to find a sequence of instructions that will automate the performance of \n",
      "a task (which can be as complex as an operating system) on a computer, often for solving a given problem. Proficient \n",
      "programming thus often requires expertise in several different subjects, including knowledge of the application domain, s\n",
      "pecialized algorithms, and formal logic.\n",
      "\n",
      "\n",
      "I'm Supreeti.I'm from Odisha.I'm an Indian\n"
     ]
    }
   ],
   "source": [
    "#Multiline string to a variable\n",
    "a = \"\"\"Computer programming is the process of designing and building an executable computer program to \n",
    "accomplish a specific computing result or to perform a specific task. Programming involves tasks such as: analysis, \n",
    "generating algorithms, profiling algorithms' accuracy and resource consumption, and the implementation of algorithms \n",
    "in a chosen programming language (commonly referred to as coding).The source code of a program is written in one \n",
    "or more languages that are intelligible to programmers, rather than machine code, which is directly executed by the central\n",
    "processing unit. The purpose of programming is to find a sequence of instructions that will automate the performance of a \n",
    "task (which can be as complex as an operating system) on a computer, often for solving a given problem. Proficient \n",
    "programming thus often requires expertise in several different subjects, including knowledge of the application domain, \n",
    "specialized algorithms, and formal logic.\"\"\"\n",
    "\n",
    "\n",
    "b = \"I'm Supreeti.I'm from Odisha.I'm an Indian\"\n",
    "#or \n",
    "\n",
    "a='''Computer programming is the process of designing and building an executable computer program to accomplish a \n",
    "specific computing result or to perform a specific task. Programming involves tasks such as: analysis, generating \n",
    "algorithms, profiling algorithms' accuracy and resource consumption, and the implementation of algorithms in a chosen\n",
    "programming language (commonly referred to as coding).The source code of a program is written in one or more \n",
    "languages that are intelligible to programmers, rather than machine code, which is directly executed by the central \n",
    "processing unit. The purpose of programming is to find a sequence of instructions that will automate the performance of \n",
    "a task (which can be as complex as an operating system) on a computer, often for solving a given problem. Proficient \n",
    "programming thus often requires expertise in several different subjects, including knowledge of the application domain, s\n",
    "pecialized algorithms, and formal logic.'''\n",
    "\n",
    "print(a)\n",
    "print(\"\\n\")\n",
    "print(b)"
   ]
  },
  {
   "cell_type": "code",
   "execution_count": 155,
   "metadata": {},
   "outputs": [
    {
     "name": "stdout",
     "output_type": "stream",
     "text": [
      "6\n"
     ]
    }
   ],
   "source": [
    "#Length of a string\n",
    "a=\"hello!\"\n",
    "print(len(a))"
   ]
  },
  {
   "cell_type": "code",
   "execution_count": 157,
   "metadata": {},
   "outputs": [
    {
     "name": "stdout",
     "output_type": "stream",
     "text": [
      "True\n",
      "False\n",
      "True\n"
     ]
    }
   ],
   "source": [
    "#Checking certain phrase or character in the string\n",
    "t=\"Hard work and determination leads to success \"\n",
    "print(\"leads\" in t)\n",
    "print(\"Hard work\" not in t)\n",
    "print(\"Hardwork\" not in t)"
   ]
  },
  {
   "cell_type": "markdown",
   "metadata": {},
   "source": [
    "Slicing\n"
   ]
  },
  {
   "cell_type": "code",
   "execution_count": 165,
   "metadata": {},
   "outputs": [
    {
     "name": "stdout",
     "output_type": "stream",
     "text": [
      "llo\n",
      "Hello\n",
      "llo World!!\n",
      "rld\n",
      "llo\n",
      "o World!!\n",
      "Hello World!!\n",
      "loW\n",
      "!!dlroW olleH\n",
      "lo Wo\n"
     ]
    }
   ],
   "source": [
    "b=\"Hello World!!\"\n",
    "print(b[2:5]) #llo-Arpan\n",
    "print(b[:5]) #Hello -Faisan\n",
    "print(b[2:]) #lo World -Padmini\n",
    "print(b[-5:-2]) #Wor-Rudra\n",
    "print(b[2:5:]) #Hel-Anmol\n",
    "print(b[4::]) #o World!! -Sarthak\n",
    "print(b[::]) #Hello World!! -Saumya\n",
    "print(b[2:8:2]) #lowr -Dishari\n",
    "print(b[::-1]) #!!dlroW olleH-Venkatesh\n",
    "print(b[-10:8])"
   ]
  },
  {
   "cell_type": "code",
   "execution_count": 166,
   "metadata": {},
   "outputs": [
    {
     "name": "stdout",
     "output_type": "stream",
     "text": [
      "HELLO WORLD!!\n",
      "hello world!!\n"
     ]
    }
   ],
   "source": [
    "#returns string in uppercase\n",
    "b=\"Hello World!!\"\n",
    "print(b.upper())\n",
    "print(b.lower())\n"
   ]
  },
  {
   "cell_type": "code",
   "execution_count": 167,
   "metadata": {},
   "outputs": [
    {
     "name": "stdout",
     "output_type": "stream",
     "text": [
      "HelloWorld\n",
      "Hello World\n"
     ]
    }
   ],
   "source": [
    "#String Concatenation\n",
    "str1=\"Hello\"\n",
    "str2=\"World\"\n",
    "str=str1 + str2\n",
    "print(str)\n",
    "print(str1 + ' ' + str2)"
   ]
  },
  {
   "cell_type": "code",
   "execution_count": 168,
   "metadata": {},
   "outputs": [
    {
     "name": "stdout",
     "output_type": "stream",
     "text": [
      "57\n",
      "My dog MAXX performs the stunts under expert supervision.\n"
     ]
    }
   ],
   "source": [
    "#Qno1-Slice & Convert the following text into lowercase & uppercase\n",
    "#input:- My dog maxx performs the sTuntS Under EXperT suPErVIsion. \n",
    "#output:- My dog MAXX performs the stunts under expert spervision.\n",
    "a=\"My dog maxx performs the sTuntS Under EXperT suPErVIsion.\"\n",
    "print(len(a))\n",
    "print(a[0:7] + a[7:11].upper() + a[11:].lower())"
   ]
  },
  {
   "cell_type": "code",
   "execution_count": 169,
   "metadata": {},
   "outputs": [
    {
     "name": "stdout",
     "output_type": "stream",
     "text": [
      "PYTHON\n",
      "  PYTHON\n",
      "PYTHON  \n"
     ]
    }
   ],
   "source": [
    "#Removing whitespaces using strip function\n",
    "str=\"  PYTHON  \"\n",
    "print(str.strip())\n",
    "#Removing whitespaces on right side using rstrip function\n",
    "str=\"  PYTHON  \"\n",
    "print(str.rstrip())\n",
    "#Removing whitespaces on left side using lstrip function\n",
    "str=\"  PYTHON  \"\n",
    "print(str.lstrip())"
   ]
  },
  {
   "cell_type": "code",
   "execution_count": 171,
   "metadata": {},
   "outputs": [
    {
     "name": "stdout",
     "output_type": "stream",
     "text": [
      "['My handwriting', ' is not good as', ' expected.']\n"
     ]
    }
   ],
   "source": [
    "#split() method that returns a list where the text between the specified separator becomes the list items\n",
    "a=\"My handwriting, is not good as, expected.\"\n",
    "print(a.split(\",\"))"
   ]
  },
  {
   "cell_type": "code",
   "execution_count": 176,
   "metadata": {},
   "outputs": [
    {
     "name": "stdout",
     "output_type": "stream",
     "text": [
      "15\n",
      "10\n",
      "15\n"
     ]
    }
   ],
   "source": [
    "#Finding the position of the word\n",
    "str=\"python is very easy to learn\"\n",
    "print(str.find(\"easy\"))\n",
    "print(str.find(\"very\"))\n",
    "print(str.rfind(\"easy\")) #searching from right to left\n"
   ]
  },
  {
   "cell_type": "code",
   "execution_count": 178,
   "metadata": {},
   "outputs": [
    {
     "data": {
      "text/plain": [
       "'pythan is very easy ta learn'"
      ]
     },
     "execution_count": 178,
     "metadata": {},
     "output_type": "execute_result"
    }
   ],
   "source": [
    "#Replacing the word in a string\n",
    "str=\"python is very easy to learn\"\n",
    "str.replace(\"easy\",\"difficult\")\n",
    "str.replace(\"o\",\"a\")"
   ]
  },
  {
   "cell_type": "code",
   "execution_count": 181,
   "metadata": {},
   "outputs": [
    {
     "name": "stdout",
     "output_type": "stream",
     "text": [
      "My name is John, I am 36\n"
     ]
    }
   ],
   "source": [
    "#String format\n",
    "age = '36'\n",
    "txt = \"My name is John, I am \" +age\n",
    "print(txt)"
   ]
  },
  {
   "cell_type": "code",
   "execution_count": 182,
   "metadata": {},
   "outputs": [
    {
     "name": "stdout",
     "output_type": "stream",
     "text": [
      "My name is John and I'm from Odisha\n"
     ]
    }
   ],
   "source": [
    "a = \"My name is John\"\n",
    "b = \" and I'm from Odisha\"\n",
    "print(f\"{a}{b}\")"
   ]
  },
  {
   "cell_type": "code",
   "execution_count": 186,
   "metadata": {},
   "outputs": [
    {
     "name": "stdout",
     "output_type": "stream",
     "text": [
      "My name is John, and I am 36\n"
     ]
    }
   ],
   "source": [
    "#String formatting using format()\n",
    "age = 36\n",
    "txt = \"My name is John, and I am {}\"\n",
    "print(txt.format(age))"
   ]
  },
  {
   "cell_type": "code",
   "execution_count": 187,
   "metadata": {},
   "outputs": [
    {
     "name": "stdout",
     "output_type": "stream",
     "text": [
      "I want 3 pieces of item 567 for 49.95 dollars.\n"
     ]
    }
   ],
   "source": [
    "quantity = 3\n",
    "itemno = 567\n",
    "price = 49.95\n",
    "myorder = \"I want {} pieces of item {} for {} dollars.\"\n",
    "print(myorder.format(quantity, itemno, price))"
   ]
  },
  {
   "cell_type": "code",
   "execution_count": 188,
   "metadata": {},
   "outputs": [
    {
     "name": "stdout",
     "output_type": "stream",
     "text": [
      "I want to pay 49.95 dollars for 3 pieces of item 567.\n"
     ]
    }
   ],
   "source": [
    "quantity = 3\n",
    "itemno = 567\n",
    "price = 49.95\n",
    "myorder = \"I want to pay {2} dollars for {0} pieces of item {1}.\"\n",
    "print(myorder.format(quantity, itemno, price))"
   ]
  },
  {
   "cell_type": "markdown",
   "metadata": {},
   "source": [
    "Escape Character:\n",
    "\n",
    "To insert characters that are illegal in a string, use an escape character.\n",
    "\n",
    "An escape character is a backslash \\ followed by the character you want to insert.\n",
    "\n"
   ]
  },
  {
   "cell_type": "code",
   "execution_count": 189,
   "metadata": {},
   "outputs": [
    {
     "name": "stdout",
     "output_type": "stream",
     "text": [
      "We are the so-called \"Vikings\" from the north.\n"
     ]
    }
   ],
   "source": [
    "txt = \"We are the so-called \\\"Vikings\\\" from the north.\"\n",
    "print(txt)"
   ]
  },
  {
   "cell_type": "code",
   "execution_count": 190,
   "metadata": {},
   "outputs": [
    {
     "name": "stdout",
     "output_type": "stream",
     "text": [
      "It's alright.\n"
     ]
    }
   ],
   "source": [
    "txt = 'It\\'s alright.'\n",
    "print(txt) \n"
   ]
  },
  {
   "cell_type": "code",
   "execution_count": 191,
   "metadata": {},
   "outputs": [
    {
     "name": "stdout",
     "output_type": "stream",
     "text": [
      "This will insert one \\ (backslash).\n"
     ]
    }
   ],
   "source": [
    "txt = \"This will insert one \\\\ (backslash).\"\n",
    "print(txt) \n"
   ]
  },
  {
   "cell_type": "code",
   "execution_count": 192,
   "metadata": {},
   "outputs": [
    {
     "name": "stdout",
     "output_type": "stream",
     "text": [
      "Hello\n",
      "World!\n"
     ]
    }
   ],
   "source": [
    "txt = \"Hello\\nWorld!\"\n",
    "print(txt) "
   ]
  },
  {
   "cell_type": "code",
   "execution_count": 193,
   "metadata": {},
   "outputs": [
    {
     "name": "stdout",
     "output_type": "stream",
     "text": [
      "Hello\r",
      "World!\n"
     ]
    }
   ],
   "source": [
    "txt = \"Hello\\rWorld!\"\n",
    "print(txt) \n"
   ]
  },
  {
   "cell_type": "code",
   "execution_count": 194,
   "metadata": {},
   "outputs": [
    {
     "name": "stdout",
     "output_type": "stream",
     "text": [
      "Hello\tWorld!\n"
     ]
    }
   ],
   "source": [
    "txt = \"Hello\\tWorld!\"\n",
    "print(txt) "
   ]
  },
  {
   "cell_type": "code",
   "execution_count": 196,
   "metadata": {},
   "outputs": [
    {
     "name": "stdout",
     "output_type": "stream",
     "text": [
      "Hello\bWorld!\n"
     ]
    }
   ],
   "source": [
    "#This example erases one character (backspace):\n",
    "txt = \"Hello\\bWorld!\"\n",
    "print(txt) \n"
   ]
  },
  {
   "cell_type": "markdown",
   "metadata": {},
   "source": [
    "Method  ->\tDescription\n",
    "capitalize() -> Converts the first character to upper case\n",
    "casefold() ->\tConverts string into lower case\n",
    "center() ->\tReturns a centered string\n",
    "count()\t-> Returns the number of times a specified value occurs in a string\n",
    "encode() ->\tReturns an encoded version of the string\n",
    "endswith()\t-> Returns true if the string ends with the specified value\n",
    "expandtabs()\t-> Sets the tab size of the string\n",
    "find() ->\tSearches the string for a specified value and returns the position of where it was found\n",
    "format() ->\tFormats specified values in a string\n",
    "format_map() ->\tFormats specified values in a string\n",
    "index() ->\tSearches the string for a specified value and returns the position of where it was found\n",
    "isalnum()\t-> Returns True if all characters in the string are alphanumeric\n",
    "isalpha()\t-> Returns True if all characters in the string are in the alphabet\n",
    "isdecimal()\t-> Returns True if all characters in the string are decimals\n",
    "isdigit()\t-> Returns True if all characters in the string are digits\n",
    "isidentifier() ->\tReturns True if the string is an identifier\n",
    "islower()\t-> Returns True if all characters in the string are lower case\n",
    "isnumeric()\t-> Returns True if all characters in the string are numeric\n",
    "isprintable() ->\tReturns True if all characters in the string are printable\n",
    "isspace() -> Returns True if all characters in the string are whitespaces\n",
    "istitle()\t-> Returns True if the string follows the rules of a title\n",
    "isupper()\t-> Returns True if all characters in the string are upper case\n",
    "join()\t-> Joins the elements of an iterable to the end of the string\n",
    "ljust()\t-> Returns a left justified version of the string\n",
    "lower()\t-> Converts a string into lower case\n",
    "lstrip()\t-> Returns a left trim version of the string\n",
    "maketrans() ->\tReturns a translation table to be used in translations\n",
    "partition() ->\tReturns a tuple where the string is parted into three parts\n",
    "replace()\t-> Returns a string where a specified value is replaced with a specified value\n",
    "rfind()\t-> Searches the string for a specified value and returns the last position of where it was found\n",
    "rindex()\t-> Searches the string for a specified value and returns the last position of where it was found\n",
    "rjust()\t-> Returns a right justified version of the string\n",
    "rpartition()\t-> Returns a tuple where the string is parted into three parts\n",
    "rsplit() ->\tSplits the string at the specified separator, and returns a list\n",
    "rstrip() ->\tReturns a right trim version of the string\n",
    "split()\t-> Splits the string at the specified separator, and returns a list\n",
    "splitlines()\t-> Splits the string at line breaks and returns a list\n",
    "startswith()\t-> Returns true if the string starts with the specified value\n",
    "strip()\t-> Returns a trimmed version of the string\n",
    "swapcase()\t-> Swaps cases, lower case becomes upper case and vice versa\n",
    "title()\t-> Converts the first character of each word to upper case\n",
    "translate()\t-> Returns a translated string\n",
    "upper()\t-> Converts a string into upper case\n",
    "zfill()\t-> Fills the string with a specified number of 0 values at the beginning"
   ]
  }
 ],
 "metadata": {
  "kernelspec": {
   "display_name": "Python 3",
   "language": "python",
   "name": "python3"
  },
  "language_info": {
   "codemirror_mode": {
    "name": "ipython",
    "version": 3
   },
   "file_extension": ".py",
   "mimetype": "text/x-python",
   "name": "python",
   "nbconvert_exporter": "python",
   "pygments_lexer": "ipython3",
   "version": "3.8.3"
  }
 },
 "nbformat": 4,
 "nbformat_minor": 4
}
