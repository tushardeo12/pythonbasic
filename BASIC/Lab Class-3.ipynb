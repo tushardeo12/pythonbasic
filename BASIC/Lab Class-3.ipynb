{
 "cells": [
  {
   "cell_type": "markdown",
   "metadata": {},
   "source": [
    "# Sets\n"
   ]
  },
  {
   "cell_type": "code",
   "execution_count": 1,
   "metadata": {},
   "outputs": [
    {
     "name": "stdout",
     "output_type": "stream",
     "text": [
      "{'banana', 'cherry', 'apple'}\n"
     ]
    }
   ],
   "source": [
    "set1 = {\"apple\", \"banana\", \"cherry\"}\n",
    "print(set1)"
   ]
  },
  {
   "cell_type": "markdown",
   "metadata": {},
   "source": [
    "Set:-\n",
    "*Sets are used to store multiple items in a single variable.\n",
    "*Set is a collection which is both unordered and unindexed.\n",
    "*Unordered means that the items in a set do not have a defined order.\n",
    "Set items can appear in a different order every time you use them, and cannot be referred to by index or key.\n",
    "*Sets are unchangeable, as we cannot change the items after the set has been created.\n",
    "*Sets cannot have two items with the same value."
   ]
  },
  {
   "cell_type": "code",
   "execution_count": 2,
   "metadata": {},
   "outputs": [
    {
     "name": "stdout",
     "output_type": "stream",
     "text": [
      "3\n"
     ]
    }
   ],
   "source": [
    "print(len(set1))"
   ]
  },
  {
   "cell_type": "code",
   "execution_count": 3,
   "metadata": {},
   "outputs": [],
   "source": [
    "set1 = {\"abc\", 34, True, 40, \"male\"}\n"
   ]
  },
  {
   "cell_type": "code",
   "execution_count": 5,
   "metadata": {},
   "outputs": [
    {
     "name": "stdout",
     "output_type": "stream",
     "text": [
      "{'banana', 'cherry', 'apple'}\n",
      "<class 'set'>\n"
     ]
    }
   ],
   "source": [
    "#Using the set() constructor to make a set\n",
    "set2 = set((\"apple\", \"banana\", \"cherry\")) # note the double round-brackets\n",
    "print(set2)\n",
    "print(type(set2))"
   ]
  },
  {
   "cell_type": "code",
   "execution_count": 6,
   "metadata": {},
   "outputs": [
    {
     "name": "stdout",
     "output_type": "stream",
     "text": [
      "banana\n",
      "cherry\n",
      "apple\n",
      "\n",
      "\n",
      "True\n"
     ]
    }
   ],
   "source": [
    "#Access Items from a set\n",
    "set = {\"apple\", \"banana\", \"cherry\"}\n",
    "\n",
    "for x in set:\n",
    "    print(x)\n",
    "\n",
    "#Checking items present in a set\n",
    "print(\"\\n\")\n",
    "print(\"banana\" in set)\n"
   ]
  },
  {
   "cell_type": "code",
   "execution_count": 7,
   "metadata": {},
   "outputs": [
    {
     "name": "stdout",
     "output_type": "stream",
     "text": [
      "{'banana', 'cherry', 'orange', 'apple'}\n",
      "\n",
      "\n",
      "{'banana', 'pineapple', 'apple', 'mango', 'papaya', 'cherry'}\n",
      "\n",
      "\n",
      "{'kiwi', 'cherry', 'banana', 'orange', 'watermelon', 'apple', 'papaya'}\n"
     ]
    }
   ],
   "source": [
    "#Add Items in a set using add() method\n",
    "set.add(\"orange\")\n",
    "print(set)\n",
    "\n",
    "print('\\n')\n",
    "#Add Items in a set using update() method\n",
    "set = {\"apple\", \"banana\", \"cherry\"}\n",
    "tropical = {\"pineapple\", \"mango\", \"papaya\"}\n",
    "\n",
    "set.update(tropical)\n",
    "print(set)\n",
    "print(\"\\n\")\n",
    "#Adding items from list,tuple & dictionary\n",
    "set = {\"apple\", \"banana\", \"cherry\"}\n",
    "mylist = [\"kiwi\", \"orange\"]\n",
    "thistuple = (\"kiwi\", \"orange\") #tuple\n",
    "thisdict = {\"papaya\":5, \"watermelon\":2}\n",
    "set.update(mylist,thistuple,thisdict)\n",
    "\n",
    "print(set)"
   ]
  },
  {
   "cell_type": "code",
   "execution_count": 8,
   "metadata": {},
   "outputs": [
    {
     "name": "stdout",
     "output_type": "stream",
     "text": [
      "{'kiwi', 'banana', 'orange', 'watermelon', 'apple', 'papaya'}\n",
      "\n",
      "\n",
      "{'kiwi', 'orange', 'watermelon', 'apple', 'papaya'}\n",
      "\n",
      "\n",
      "{'orange', 'watermelon', 'apple', 'papaya'}\n"
     ]
    }
   ],
   "source": [
    "#Remove an item from a set using remove() method\n",
    "set = {'banana', 'cherry', 'papaya', 'kiwi', 'apple', 'watermelon', 'orange'}\n",
    "set.remove(\"cherry\")\n",
    "\n",
    "print(set)\n",
    "print(\"\\n\")\n",
    "#Remove an item from a set using discard() method\n",
    "set.discard(\"banana\")\n",
    "print(set)\n",
    "print(\"\\n\")\n",
    "#Remove an item from a set using pop() method\n",
    "set.pop()\n",
    "print(set)"
   ]
  },
  {
   "cell_type": "code",
   "execution_count": 9,
   "metadata": {},
   "outputs": [
    {
     "name": "stdout",
     "output_type": "stream",
     "text": [
      "set()\n",
      "\n",
      "\n",
      "<class 'set'>\n"
     ]
    }
   ],
   "source": [
    "#Clearing a set using clear() method\n",
    "set = {\"apple\", \"banana\", \"cherry\"}\n",
    "set.clear()\n",
    "\n",
    "print(set)\n",
    "print(\"\\n\")\n",
    "#Delete the set completely\n",
    "del set\n",
    "\n",
    "print(set)"
   ]
  },
  {
   "cell_type": "code",
   "execution_count": 10,
   "metadata": {},
   "outputs": [
    {
     "name": "stdout",
     "output_type": "stream",
     "text": [
      "{'b', 'c', 1, 2, 3, 'a'}\n",
      "\n",
      "\n",
      "{'b', 'c', 1, 2, 3, 'a'}\n"
     ]
    }
   ],
   "source": [
    "#Joining of two set union() method\n",
    "\n",
    "set1 = {\"a\", \"b\" , \"c\"}\n",
    "set2 = {1, 2, 3}\n",
    "\n",
    "set3 = set1.union(set2)\n",
    "print(set3)\n",
    "print(\"\\n\")\n",
    "#Joining of two sets using update() method\n",
    "set1 = {\"a\", \"b\" , \"c\"}\n",
    "set2 = {1, 2, 3}\n",
    "\n",
    "set1.update(set2)\n",
    "print(set1)"
   ]
  },
  {
   "cell_type": "code",
   "execution_count": 11,
   "metadata": {},
   "outputs": [
    {
     "name": "stdout",
     "output_type": "stream",
     "text": [
      "{'banana', 'apple'}\n",
      "\n",
      "\n",
      "{'banana', 'apple'}\n"
     ]
    }
   ],
   "source": [
    "#intersection_update() method will keep only the items that are present in both sets\n",
    "x = {\"apple\", \"banana\", \"cherry\"}\n",
    "y = {\"google\", \"microsoft\", \"apple\",\"banana\"}\n",
    "\n",
    "x.intersection_update(y)\n",
    "print(x)\n",
    "print(\"\\n\")\n",
    "#intersection() method will return a new set, that only contains the items that are present in both sets\n",
    "z = x.intersection(y)\n",
    "\n",
    "print(z)\n"
   ]
  },
  {
   "cell_type": "code",
   "execution_count": 14,
   "metadata": {},
   "outputs": [
    {
     "name": "stdout",
     "output_type": "stream",
     "text": [
      "{'cherry', 'microsoft', 'google'}\n",
      "\n",
      "\n"
     ]
    }
   ],
   "source": [
    "#symmetric_difference_update() method will keep only the elements that are NOT present in both sets.\n",
    "x = {\"apple\", \"banana\", \"cherry\"}\n",
    "y = {\"google\", \"microsoft\", \"apple\",\"banana\"}\n",
    "\n",
    "x.symmetric_difference_update(y)\n",
    "\n",
    "print(x)\n",
    "print('\\n')\n"
   ]
  },
  {
   "cell_type": "code",
   "execution_count": 15,
   "metadata": {},
   "outputs": [
    {
     "name": "stdout",
     "output_type": "stream",
     "text": [
      "{'cherry', 'microsoft', 'google'}\n"
     ]
    }
   ],
   "source": [
    "#symmetric_difference() method will return a new set, that contains only the elements that are NOT present in both sets.\n",
    "x = {\"apple\", \"banana\", \"cherry\"}\n",
    "y = {\"google\", \"microsoft\", \"apple\",\"banana\"}\n",
    "\n",
    "z = x.symmetric_difference(y)\n",
    "\n",
    "print(z)"
   ]
  },
  {
   "cell_type": "markdown",
   "metadata": {},
   "source": [
    "# Dictionary"
   ]
  },
  {
   "cell_type": "markdown",
   "metadata": {},
   "source": [
    "Dictionary:-\n",
    "*Dictionaries are used to store data values in key:value pairs.\n",
    "*Dictionary is a collection which is ordered*, changeable and does not allow duplicates.\n",
    "*Dictionary items are ordered, changeable, and does not allow duplicates.\n",
    "*Dictionary items are presented in key:value pairs, and can be referred to by using the key name.\n",
    "*Dictionaries are ordered, it means that the items have a defined order, and that order will not change.\n",
    "Unordered means that the items does not have a defined order, you cannot refer to an item by using an index.\n",
    "*Dictionaries are changeable, meaning that we can change, add or remove items after the dictionary has been created.\n",
    "*Dictionaries cannot have two items with the same key."
   ]
  },
  {
   "cell_type": "code",
   "execution_count": 16,
   "metadata": {},
   "outputs": [
    {
     "name": "stdout",
     "output_type": "stream",
     "text": [
      "{'key1': 'item1', 'key2': 'item2'}\n",
      "item1\n"
     ]
    }
   ],
   "source": [
    "d = {'key1':'item1','key2':'item2'}\n",
    "print(d)\n",
    "print(d[\"key1\"])"
   ]
  },
  {
   "cell_type": "code",
   "execution_count": 17,
   "metadata": {},
   "outputs": [
    {
     "name": "stdout",
     "output_type": "stream",
     "text": [
      "{'brand': 'Ford', 'electric': False, 'year': 1964, 'colors': ['red', 'white', 'blue']}\n"
     ]
    }
   ],
   "source": [
    "#String, int, boolean, and list data types in dictionary\n",
    "dict = {\"brand\": \"Ford\",\"electric\": False,\"year\": 1964,\"colors\": [\"red\", \"white\", \"blue\"]}\n",
    "print(dict)"
   ]
  },
  {
   "cell_type": "code",
   "execution_count": 18,
   "metadata": {},
   "outputs": [
    {
     "name": "stdout",
     "output_type": "stream",
     "text": [
      "1964\n",
      "['red', 'white', 'blue']\n"
     ]
    }
   ],
   "source": [
    "#Accessing Items:You can access the items of a dictionary by referring to its key name\n",
    "print(dict[\"year\"])\n",
    "#Accessing items using get() method\n",
    "print(dict.get(\"colors\"))"
   ]
  },
  {
   "cell_type": "code",
   "execution_count": 19,
   "metadata": {},
   "outputs": [
    {
     "name": "stdout",
     "output_type": "stream",
     "text": [
      "dict_keys(['brand', 'electric', 'year', 'colors'])\n"
     ]
    }
   ],
   "source": [
    "#Get Keys:The keys() method will return a list of all the keys in the dictionary.\n",
    "x = dict.keys()\n",
    "print(x)"
   ]
  },
  {
   "cell_type": "code",
   "execution_count": 20,
   "metadata": {},
   "outputs": [
    {
     "name": "stdout",
     "output_type": "stream",
     "text": [
      "dict_values(['Ford', False, 1964, ['red', 'white', 'blue']])\n"
     ]
    }
   ],
   "source": [
    "#Get Values:The values() method will return a list of all the values in the dictionary.\n",
    "x = dict.values()\n",
    "print(x)"
   ]
  },
  {
   "cell_type": "code",
   "execution_count": 21,
   "metadata": {},
   "outputs": [
    {
     "name": "stdout",
     "output_type": "stream",
     "text": [
      "dict_items([('brand', 'Ford'), ('electric', False), ('year', 1964), ('colors', ['red', 'white', 'blue'])])\n"
     ]
    }
   ],
   "source": [
    "#Get Items:The items() method will return each item in a dictionary, as tuples in a list.Get a list of the key:value pairs\n",
    "x = dict.items()\n",
    "print(x)"
   ]
  },
  {
   "cell_type": "code",
   "execution_count": 50,
   "metadata": {},
   "outputs": [
    {
     "name": "stdout",
     "output_type": "stream",
     "text": [
      "2020\n",
      "{'brand': 'Ford', 'electric': False, 'year': 2020, 'color': 'red'}\n",
      "4100\n",
      "{'brand': 'Ford', 'electric': False, 'year': 2020, 'color': 'red', 'slno': '4100'}\n"
     ]
    }
   ],
   "source": [
    "#Make a change in the original dictionary\n",
    "x = dict[\"year\"] = 2020\n",
    "\n",
    "print(x) #after the change\n",
    "print(dict)\n",
    "\n",
    "#Add a new item to the original dictionary\n",
    "y = dict[\"slno\"] = \"4100\"\n",
    "\n",
    "print(y) #after the change\n",
    "print(dict)\n"
   ]
  },
  {
   "cell_type": "code",
   "execution_count": 25,
   "metadata": {},
   "outputs": [
    {
     "name": "stdout",
     "output_type": "stream",
     "text": [
      "{'brand': 'Ford', 'electric': False, 'year': 2020, 'color': 'red'}\n"
     ]
    }
   ],
   "source": [
    "#Updating or changing in a dictionary\n",
    "dict = {\"brand\": \"Ford\",\"electric\": False,\"year\": 1964,\"color\":\"red\"}\n",
    "dict.update({\"year\": 2020})\n",
    "print(dict)"
   ]
  },
  {
   "cell_type": "code",
   "execution_count": 26,
   "metadata": {},
   "outputs": [
    {
     "name": "stdout",
     "output_type": "stream",
     "text": [
      "{'electric': False, 'year': 1964, 'color': 'red'}\n",
      "\n",
      "\n",
      "{'electric': False, 'year': 1964}\n",
      "\n",
      "\n",
      "{'year': 1964}\n",
      "\n",
      "\n",
      "{}\n"
     ]
    }
   ],
   "source": [
    "#Removing Items from a dictionary\n",
    "dict = {\"brand\": \"Ford\",\"electric\": False,\"year\": 1964,\"color\":\"red\"}\n",
    "dict.pop(\"brand\")\n",
    "print(dict)\n",
    "print('\\n')\n",
    "\n",
    "#The popitem() method removes the last inserted item\n",
    "dict.popitem()\n",
    "print(dict)\n",
    "print('\\n')\n",
    "\n",
    "#The del keyword removes the item with the specified key name\n",
    "del dict[\"electric\"]\n",
    "print(dict)\n",
    "print('\\n')\n",
    "\n",
    "#The clear() method empties the dictionary\n",
    "dict.clear()\n",
    "print(dict)"
   ]
  },
  {
   "cell_type": "code",
   "execution_count": 1,
   "metadata": {},
   "outputs": [
    {
     "name": "stdout",
     "output_type": "stream",
     "text": [
      "brand\n",
      "electric\n",
      "year\n",
      "color\n",
      "\n",
      "\n",
      "Ford\n",
      "False\n",
      "1964\n",
      "red\n"
     ]
    }
   ],
   "source": [
    "#Looping in the dictionary\n",
    "dict = {\"brand\": \"Ford\",\"electric\": False,\"year\": 1964,\"color\":\"red\"}\n",
    "\n",
    "\"\"\"Print all key names in the dictionary, one by one\"\"\"\n",
    "for x in dict:\n",
    "    print(x)\n",
    "\n",
    "print('\\n')\n",
    "\"\"\"Print all values in the dictionary, one by one\"\"\"\n",
    "for x in dict:\n",
    "    print(dict[x])"
   ]
  },
  {
   "cell_type": "code",
   "execution_count": 27,
   "metadata": {},
   "outputs": [
    {
     "name": "stdout",
     "output_type": "stream",
     "text": [
      "Ford\n",
      "False\n",
      "1964\n",
      "red\n",
      "\n",
      "\n",
      "brand\n",
      "electric\n",
      "year\n",
      "color\n",
      "\n",
      "\n",
      "brand -> Ford\n",
      "electric -> False\n",
      "year -> 1964\n",
      "color -> red\n"
     ]
    }
   ],
   "source": [
    "#returns values in dict\n",
    "for x in dict.values():\n",
    "    print(x)\n",
    "print(\"\\n\")\n",
    "#returns key in dict \n",
    "for x in dict.keys():\n",
    "    print(x)\n",
    "print('\\n')\n",
    "#returns key:value pair in dict\n",
    "for x, y in dict.items():\n",
    "    print(x,\"->\", y)"
   ]
  },
  {
   "cell_type": "code",
   "execution_count": 29,
   "metadata": {},
   "outputs": [
    {
     "name": "stdout",
     "output_type": "stream",
     "text": [
      "{'child1': {'name': 'Emil', 'year': 2004}, 'child2': {'name': 'Tobias', 'year': 2007}, 'child3': {'name': 'Linus', 'year': 2011}}\n"
     ]
    }
   ],
   "source": [
    "#Nested dictionary\n",
    "\n",
    "myfamily = {\"child1\" : {\"name\" : \"Emil\",\"year\" : 2004},\"child2\" : {\"name\" : \"Tobias\",\"year\" : 2007},\"child3\" : \n",
    "            {\"name\" : \"Linus\",\"year\" : 2011}}\n",
    "print(myfamily)"
   ]
  },
  {
   "cell_type": "markdown",
   "metadata": {},
   "source": [
    "**Qno- Create three dictionaries separately, then create one dictionary that will contain the other three dictionaries"
   ]
  },
  {
   "cell_type": "code",
   "execution_count": 2,
   "metadata": {},
   "outputs": [
    {
     "name": "stdout",
     "output_type": "stream",
     "text": [
      "{'one': 1, 'two': 2, 'three': 3, 'four': 4, 'five': 5, 'six': 6, 'seven': 7, 'eight': 8, 'nine': 9}\n"
     ]
    }
   ],
   "source": [
    "dict1={\"one\":1,\"two\":2,\"three\":3}\n",
    "dict2={\"four\":4,\"five\":5,\"six\":6}\n",
    "dict3={\"seven\":7,\"eight\":8,\"nine\":9}\n",
    "dict2.update(dict3)\n",
    "dict1.update(dict2)\n",
    "print(dict1)"
   ]
  },
  {
   "cell_type": "markdown",
   "metadata": {},
   "source": [
    "**Qno- Create a dictionary of address using \"name\", \"address\", \"street\", \"state\" and print all the values using string formater"
   ]
  },
  {
   "cell_type": "code",
   "execution_count": 31,
   "metadata": {},
   "outputs": [
    {
     "name": "stdout",
     "output_type": "stream",
     "text": [
      "tushar\n",
      "kiit\n",
      "kp7\n",
      "orrissa\n"
     ]
    }
   ],
   "source": [
    "adres_s={\"name\":\"tushar\",\"address\":\"kiit\",\"street\":\"kp7\",\"state\":\"orrissa\"}\n",
    "for x in adres_s.values():\n",
    "    print(f\"{x}\")\n",
    "\n"
   ]
  },
  {
   "cell_type": "markdown",
   "metadata": {},
   "source": [
    "**Qno- Write a program to multiply all elements of dictionary\n",
    "Input:- FruitDict = {'Apple': 10, 'banana': 5,'orange':4,'Guava':6}\n",
    "Output:- 1200"
   ]
  },
  {
   "cell_type": "code",
   "execution_count": 39,
   "metadata": {},
   "outputs": [
    {
     "name": "stdout",
     "output_type": "stream",
     "text": [
      "1200\n"
     ]
    }
   ],
   "source": [
    "FruitDict = {'Apple': 10, 'banana': 5,'orange':4,'Guava':6}\n",
    "mul=1\n",
    "for x in FruitDict.values():\n",
    "    mul=mul*x\n",
    "print(mul)\n",
    " "
   ]
  },
  {
   "cell_type": "markdown",
   "metadata": {},
   "source": [
    "**Qno- Create a user input dictionary having two key:value pair and check whether one of the key given by you is pesent in the dictionary\n",
    "Input:- {hari:59,sunny:60}\n",
    "Checking_input:- hari\n",
    "Output:- hari=59"
   ]
  },
  {
   "cell_type": "code",
   "execution_count": 65,
   "metadata": {},
   "outputs": [
    {
     "name": "stdout",
     "output_type": "stream",
     "text": [
      "enter the key  -hari\n",
      "enter the value -89\n",
      "enter the key  -sunny\n",
      "enter the value -67\n",
      "{'hari': 89, 'sunny': 67}\n",
      "father\n",
      "not in dictionary\n"
     ]
    }
   ],
   "source": [
    "user_dict={}\n",
    "for x in range(2):\n",
    "    inp1=input(\"enter the key  -\")\n",
    "    inp2=int(input(\"enter the value -\"))\n",
    "    \n",
    "#     user_dict[inp1]=inp2\n",
    "    user_dict.update({inp1:inp2})\n",
    "print(user_dict)\n",
    "check=input()\n",
    "if check in user_dict:\n",
    "    print(user_dict[check])\n",
    "else: print(\"not in dictionary\")\n",
    "\n"
   ]
  },
  {
   "cell_type": "markdown",
   "metadata": {},
   "source": [
    "# Lambda"
   ]
  },
  {
   "cell_type": "markdown",
   "metadata": {},
   "source": [
    "A lambda function is a small anonymous function.\n",
    "A lambda function can take any number of arguments, but can only have one expression.\n",
    "\n",
    "Syntax: \n",
    "lambda arguments : expression"
   ]
  },
  {
   "cell_type": "code",
   "execution_count": 30,
   "metadata": {},
   "outputs": [
    {
     "name": "stdout",
     "output_type": "stream",
     "text": [
      "30\n",
      "30\n"
     ]
    }
   ],
   "source": [
    "#Multiply 6 to argument a, and return the result:\n",
    "\n",
    "x = lambda a : a * 6\n",
    "print(x(5))\n",
    "\n",
    "#Multiply argument a with argument b and return the result:\n",
    "\n",
    "x = lambda a, b : a * b\n",
    "print(x(5, 6))"
   ]
  },
  {
   "cell_type": "markdown",
   "metadata": {},
   "source": [
    "**Qno-Write a Python program to sort a list of tuples using Lambda.\n",
    "Input: [('Eng', 88), ('Sci', 90), ('Maths', 97), ('Sst', 82)]\n",
    "Output: [('Sst', 82), ('Eng', 88), ('Sci', 90), ('Maths', 97)]"
   ]
  },
  {
   "cell_type": "code",
   "execution_count": 61,
   "metadata": {},
   "outputs": [
    {
     "name": "stdout",
     "output_type": "stream",
     "text": [
      "82\n"
     ]
    }
   ],
   "source": [
    "Input= [('Eng', 88), ('Sci', 90), ('Maths', 97), ('Sst', 82)]\n",
    "for x in Input:\n",
    "    \n",
    "    y=x[1]\n",
    "print(y)\n",
    "        \n",
    "           \n",
    "# z=lambda y:y<y    "
   ]
  },
  {
   "cell_type": "markdown",
   "metadata": {},
   "source": [
    "# Function"
   ]
  },
  {
   "cell_type": "markdown",
   "metadata": {},
   "source": [
    "Functions:A function is a block of code which only runs when it is called.\n",
    "You can pass data, known as parameters, into a function.\n",
    "A function can return data as a result."
   ]
  },
  {
   "cell_type": "code",
   "execution_count": 31,
   "metadata": {},
   "outputs": [],
   "source": [
    "def func():\n",
    "    print('This is a custom function')\n"
   ]
  },
  {
   "cell_type": "code",
   "execution_count": 32,
   "metadata": {},
   "outputs": [
    {
     "name": "stdout",
     "output_type": "stream",
     "text": [
      "This is a custom function\n"
     ]
    }
   ],
   "source": [
    "func()"
   ]
  },
  {
   "cell_type": "code",
   "execution_count": 33,
   "metadata": {},
   "outputs": [],
   "source": [
    "def func1(a):\n",
    "    print('This ia s custom function '+str(a))\n"
   ]
  },
  {
   "cell_type": "code",
   "execution_count": 34,
   "metadata": {},
   "outputs": [
    {
     "name": "stdout",
     "output_type": "stream",
     "text": [
      "This ia s custom function created by me\n",
      "This ia s custom function 2\n",
      "This ia s custom function 3.665\n"
     ]
    }
   ],
   "source": [
    "func1('created by me')\n",
    "func1(2)\n",
    "func1(3.665)"
   ]
  },
  {
   "cell_type": "code",
   "execution_count": 35,
   "metadata": {},
   "outputs": [
    {
     "name": "stdout",
     "output_type": "stream",
     "text": [
      "16\n",
      "ram & hari\n"
     ]
    }
   ],
   "source": [
    "def func2(a,b):\n",
    "    c=a+b\n",
    "    print(c)\n",
    "func2(9,7)\n",
    "func2('ram & ','hari')"
   ]
  },
  {
   "cell_type": "code",
   "execution_count": 36,
   "metadata": {},
   "outputs": [
    {
     "name": "stdout",
     "output_type": "stream",
     "text": [
      "13\n"
     ]
    }
   ],
   "source": [
    "#Use of Return Statement in a Function\n",
    "def func3(a,b):\n",
    "    c=a+b\n",
    "    return c\n",
    "a=func3(5,8)\n",
    "print(a)"
   ]
  },
  {
   "cell_type": "markdown",
   "metadata": {},
   "source": [
    "**Qno- Define a function with two arguments a and b. Check if a is equal to 1 then return 'coming from if',check if b is equal to 1 ,then return 'coming from elif' otherwise return 'no condition is satisfied'"
   ]
  },
  {
   "cell_type": "code",
   "execution_count": 37,
   "metadata": {},
   "outputs": [
    {
     "name": "stdout",
     "output_type": "stream",
     "text": [
      "Name is ram\n",
      "Roll no. is 1\n",
      "Branch is CSE\n",
      "\n"
     ]
    }
   ],
   "source": [
    "#Use of Default Argument\n",
    "def func5(name='ram',roll_no=1,branch='CSE'):\n",
    "    print('Name is '+name)\n",
    "    print('Roll no. is '+str(roll_no))\n",
    "    print('Branch is '+branch,end='\\n\\n')\n",
    "func5()\n"
   ]
  },
  {
   "cell_type": "code",
   "execution_count": 38,
   "metadata": {},
   "outputs": [
    {
     "name": "stdout",
     "output_type": "stream",
     "text": [
      "Name is hari\n",
      "Roll no. is 1\n",
      "Branch is CSE\n",
      "\n"
     ]
    }
   ],
   "source": [
    "func5('hari')\n"
   ]
  },
  {
   "cell_type": "code",
   "execution_count": 39,
   "metadata": {},
   "outputs": [
    {
     "name": "stdout",
     "output_type": "stream",
     "text": [
      "Name is shayam\n",
      "Roll no. is 5\n",
      "Branch is CSE\n",
      "\n"
     ]
    }
   ],
   "source": [
    "func5('shayam',5)\n"
   ]
  },
  {
   "cell_type": "code",
   "execution_count": 40,
   "metadata": {},
   "outputs": [
    {
     "name": "stdout",
     "output_type": "stream",
     "text": [
      "Name is sunny\n",
      "Roll no. is 7\n",
      "Branch is EEE\n",
      "\n"
     ]
    }
   ],
   "source": [
    "func5('sunny',7,'EEE')\n"
   ]
  },
  {
   "cell_type": "code",
   "execution_count": 41,
   "metadata": {},
   "outputs": [
    {
     "name": "stdout",
     "output_type": "stream",
     "text": [
      "Name is ram\n",
      "Roll no. is 1\n",
      "Branch is ECE\n",
      "\n"
     ]
    }
   ],
   "source": [
    "func5(branch='ECE')"
   ]
  },
  {
   "cell_type": "code",
   "execution_count": 42,
   "metadata": {},
   "outputs": [
    {
     "name": "stdout",
     "output_type": "stream",
     "text": [
      "6.333333333333333\n"
     ]
    }
   ],
   "source": [
    "#Average of list of nos.\n",
    "def average(a):\n",
    "    s=0\n",
    "    n=len(a)\n",
    "    for i in a:\n",
    "        s=s+i\n",
    "    av=s/n\n",
    "    return av\n",
    "c=average([4,9,6])\n",
    "print(c)"
   ]
  },
  {
   "cell_type": "code",
   "execution_count": 68,
   "metadata": {},
   "outputs": [
    {
     "name": "stdout",
     "output_type": "stream",
     "text": [
      "Name is ram\n",
      "Name is Hari\n"
     ]
    }
   ],
   "source": [
    "#Use of Variable Argument\n",
    "#If the number of arguments is unknown, add a * before the parameter name\n",
    "def funvar(name='ram',*vararg):\n",
    "    print('Name is '+name,end='\\n')\n",
    "    for i in vararg:\n",
    "        print(i)\n",
    "funvar()\n",
    "funvar('Hari')"
   ]
  },
  {
   "cell_type": "code",
   "execution_count": 44,
   "metadata": {},
   "outputs": [
    {
     "name": "stdout",
     "output_type": "stream",
     "text": [
      "Name is Shyam\n",
      "Roll no is 8\n",
      "Branch is CSE\n"
     ]
    }
   ],
   "source": [
    "funvar('Shyam','Roll no is 8','Branch is CSE')"
   ]
  },
  {
   "cell_type": "code",
   "execution_count": 45,
   "metadata": {},
   "outputs": [
    {
     "name": "stdout",
     "output_type": "stream",
     "text": [
      "Her last name is Subudhi\n"
     ]
    }
   ],
   "source": [
    "#If the number of keyword arguments is unknown, add a double ** before the parameter name\n",
    "def my_function(**St):\n",
    "    print(\"Her last name is \" +St[\"lname\"])\n",
    "\n",
    "my_function(fname = \"Supreeti\", lname = \"Subudhi\")"
   ]
  },
  {
   "cell_type": "code",
   "execution_count": 46,
   "metadata": {},
   "outputs": [
    {
     "name": "stdout",
     "output_type": "stream",
     "text": [
      "6.333333333333333\n"
     ]
    }
   ],
   "source": [
    "#for multiple values using an Variable Argument\n",
    "def average(*a):\n",
    "    s=0\n",
    "    n=len(a)\n",
    "    for i in a:\n",
    "        s=s+i\n",
    "    av=s/n\n",
    "    return av\n",
    "c=average(4,9,6)\n",
    "print(c)"
   ]
  },
  {
   "cell_type": "markdown",
   "metadata": {},
   "source": [
    "**Qno-Take a Dictionary as given in input.Find the average of phy subject from the dict using function\n",
    "Input:- dict={1:{'name':'Ram','Mark':{'phy':56,'chem':78}},2:{'name':'Hari','Mark':{'phy':76,'chem':88}}}\n",
    "Output:- 66.0"
   ]
  },
  {
   "cell_type": "code",
   "execution_count": 47,
   "metadata": {},
   "outputs": [
    {
     "name": "stdout",
     "output_type": "stream",
     "text": [
      "6\n",
      "4\n"
     ]
    }
   ],
   "source": [
    "#use of Global variable: Global variable can be accessed by other functions also\n",
    "def myadd(a,b,c):\n",
    "    global d\n",
    "    d=a+b+c\n",
    "    return d\n",
    "def mysub(e):\n",
    "    f=d-e\n",
    "    return f\n",
    "print(myadd(1,2,3))\n",
    "print(mysub(2))"
   ]
  },
  {
   "cell_type": "code",
   "execution_count": 48,
   "metadata": {},
   "outputs": [
    {
     "name": "stdout",
     "output_type": "stream",
     "text": [
      "6\n",
      "4\n"
     ]
    }
   ],
   "source": [
    "#use of Global variable\n",
    "global d\n",
    "def myadd(a,b,c):\n",
    "    d=a+b+c\n",
    "    return d\n",
    "def mysub(e):\n",
    "    f=d-e\n",
    "    return f\n",
    "print(myadd(1,2,3))\n",
    "print(mysub(2))"
   ]
  },
  {
   "cell_type": "code",
   "execution_count": 49,
   "metadata": {},
   "outputs": [
    {
     "name": "stdout",
     "output_type": "stream",
     "text": [
      "12\n",
      "-22\n"
     ]
    }
   ],
   "source": [
    "def myadd(a,b,c):\n",
    "    d=a+b+c\n",
    "    return d\n",
    "def mysub(e):\n",
    "    f=d-e\n",
    "    return f\n",
    "print(myadd(4,5,3))\n",
    "print(mysub(28))\n",
    "global d"
   ]
  },
  {
   "cell_type": "code",
   "execution_count": 50,
   "metadata": {},
   "outputs": [
    {
     "name": "stdout",
     "output_type": "stream",
     "text": [
      "22\n"
     ]
    }
   ],
   "source": [
    "#Lambda function inside a function\n",
    "def myfunc(n):\n",
    "    return lambda a : a * n\n",
    "\n",
    "x = myfunc(2)\n",
    "\n",
    "print(x(11))"
   ]
  }
 ],
 "metadata": {
  "kernelspec": {
   "display_name": "Python 3",
   "language": "python",
   "name": "python3"
  },
  "language_info": {
   "codemirror_mode": {
    "name": "ipython",
    "version": 3
   },
   "file_extension": ".py",
   "mimetype": "text/x-python",
   "name": "python",
   "nbconvert_exporter": "python",
   "pygments_lexer": "ipython3",
   "version": "3.8.8"
  }
 },
 "nbformat": 4,
 "nbformat_minor": 4
}
